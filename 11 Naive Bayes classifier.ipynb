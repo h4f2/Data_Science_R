{
 "cells": [
  {
   "cell_type": "markdown",
   "metadata": {},
   "source": [
    "# 樸素貝式分類器 (Naive Bayes classifier)"
   ]
  },
  {
   "cell_type": "code",
   "execution_count": 1,
   "metadata": {},
   "outputs": [],
   "source": [
    "library(MASS)\n",
    "library(klaR)"
   ]
  },
  {
   "cell_type": "markdown",
   "metadata": {},
   "source": [
    "# Iris 資料集"
   ]
  },
  {
   "cell_type": "code",
   "execution_count": 2,
   "metadata": {},
   "outputs": [
    {
     "data": {
      "text/plain": [
       "            \n",
       "             setosa versicolor virginica\n",
       "  setosa         15          0         0\n",
       "  versicolor      0         14         1\n",
       "  virginica       0          1        14"
      ]
     },
     "metadata": {},
     "output_type": "display_data"
    },
    {
     "name": "stdout",
     "output_type": "stream",
     "text": [
      "\n",
      "  Accuracy: 95.55556 %"
     ]
    }
   ],
   "source": [
    "data(iris)\n",
    "index <- c(sample(1:50,35), sample(51:100,35), sample(101:150,35))\n",
    "training <- iris[index,]\n",
    "testing <- iris[-index,]\n",
    "\n",
    "fit_bayes <- NaiveBayes(Species ~ ., data=training)\n",
    "pre_bayes <- predict(fit_bayes, testing)\n",
    "table(testing$Species, pre_bayes$class)\n",
    "cat(\"\\n  Accuracy:\",\n",
    "    sum(as.numeric(pre_bayes$class == testing$Species)) / nrow(testing)*100,\"%\")"
   ]
  },
  {
   "cell_type": "code",
   "execution_count": 3,
   "metadata": {},
   "outputs": [
    {
     "data": {
      "text/plain": [
       "grouping\n",
       "    setosa versicolor  virginica \n",
       " 0.3333333  0.3333333  0.3333333 "
      ]
     },
     "metadata": {},
     "output_type": "display_data"
    },
    {
     "name": "stdout",
     "output_type": "stream",
     "text": [
      "$Sepal.Length\n",
      "               [,1]      [,2]\n",
      "setosa     4.960000 0.3541352\n",
      "versicolor 5.951429 0.5332318\n",
      "virginica  6.645714 0.7101544\n",
      "\n",
      "$Sepal.Width\n",
      "               [,1]      [,2]\n",
      "setosa     3.397143 0.3996217\n",
      "versicolor 2.785714 0.2942017\n",
      "virginica  2.997143 0.3285312\n",
      "\n",
      "$Petal.Length\n",
      "               [,1]      [,2]\n",
      "setosa     1.448571 0.1884479\n",
      "versicolor 4.300000 0.4721665\n",
      "virginica  5.637143 0.5906555\n",
      "\n",
      "$Petal.Width\n",
      "               [,1]      [,2]\n",
      "setosa     0.240000 0.1034692\n",
      "versicolor 1.340000 0.1928120\n",
      "virginica  2.031429 0.2665371\n",
      "\n"
     ]
    }
   ],
   "source": [
    "# fit的結果\n",
    "fit_bayes$apriori\n",
    "\n",
    "# tables of mean and standard deviation (in that order)\n",
    "print(fit_bayes$tables)"
   ]
  },
  {
   "cell_type": "code",
   "execution_count": 4,
   "metadata": {
    "tags": []
   },
   "outputs": [],
   "source": [
    "# 寫成函式\n",
    "fit_NaiveBayes <- function(rawdata) {\n",
    "    # print(rawdata[index,class])\n",
    "    last <- ncol(rawdata)\n",
    "    index <- sample(1:nrow(rawdata), round(nrow(rawdata)*0.7))\n",
    "    \n",
    "    fit_bayes <- NaiveBayes(rawdata[index,last] ~ ., data=rawdata[index,-last])\n",
    "    pre_bayes <- predict(fit_bayes, rawdata[-index,-last])\n",
    "    print(table(rawdata[-index,last], pre_bayes$class))\n",
    "    cat(\"\\n  Accuracy:\",\n",
    "        sum(as.numeric(pre_bayes$class == rawdata[-index,last])) / nrow(rawdata[-index,])*100,\"%\\n\\n\")\n",
    "    return(fit_bayes)\n",
    "    }"
   ]
  },
  {
   "cell_type": "markdown",
   "metadata": {},
   "source": [
    "# 性別資料集"
   ]
  },
  {
   "cell_type": "code",
   "execution_count": 5,
   "metadata": {},
   "outputs": [
    {
     "name": "stdout",
     "output_type": "stream",
     "text": [
      "        \n",
      "         female male\n",
      "  female     18    1\n",
      "  male        0   23\n",
      "\n",
      "  Accuracy: 97.61905 %\n",
      "\n"
     ]
    }
   ],
   "source": [
    "gender_size <- read.csv(\"../data_files/gender_size.csv\", stringsAsFactors = TRUE)\n",
    "fit_bayes <- fit_NaiveBayes(gender_size)"
   ]
  },
  {
   "cell_type": "code",
   "execution_count": 6,
   "metadata": {},
   "outputs": [
    {
     "name": "stdout",
     "output_type": "stream",
     "text": [
      "\n",
      "x1: 2\n",
      "x2: 1"
     ]
    }
   ],
   "source": [
    "# 預測資料(1 -> female, 2 -> male)\n",
    "x1 <- data.frame(Height= 175, Weight=72, Waist=32)\n",
    "x2 <- data.frame(Height= 165, Weight=58, Waist=28)\n",
    "cat('\\nx1:', predict(fit_bayes, x1)$class)\n",
    "cat('\\nx2:', predict(fit_bayes, x2)$class)"
   ]
  },
  {
   "cell_type": "markdown",
   "metadata": {},
   "source": [
    "# 鐵達尼號資料集"
   ]
  },
  {
   "cell_type": "code",
   "execution_count": 7,
   "metadata": {},
   "outputs": [
    {
     "name": "stdout",
     "output_type": "stream",
     "text": [
      "     \n",
      "       no yes\n",
      "  no  223  14\n",
      "  yes  77  72\n",
      "\n",
      "  Accuracy: 76.42487 %\n",
      "\n"
     ]
    }
   ],
   "source": [
    "titanic_data <-read.csv(\"../data_files/titanic.csv\", header=T, sep=\",\",stringsAsFactors = TRUE)\n",
    "\n",
    "# 整理數據\n",
    "titanic <- na.exclude(titanic_data) #remove missing values\n",
    "rw <- c(which(titanic$age==9999), which(titanic$fare==9999))  \n",
    "#identify the id which has missing values in age or fare\n",
    "titan <- titanic[-rw, 2:5]\n",
    "titan$survival <- titanic[-rw, 10] #set survival\n",
    "\n",
    "titan[which(titan[,1]==0), 1]<-\"male\"  #rename 0 by male\n",
    "titan[which(titan[,1]==1), 1]<-\"female\"  #rename 1 by female\n",
    "titan[,1] <- as.factor(titan$gender)\n",
    "\n",
    "titan[which(titan[,5]==1), 5]<-\"yes\"\n",
    "titan[which(titan[,5]==0), 5]<-\"no\"\n",
    "titan[,5]<-as.factor(titan[,\"survival\"])\n",
    "\n",
    "fit_bayes <-fit_NaiveBayes(titan)"
   ]
  }
 ],
 "metadata": {
  "kernelspec": {
   "display_name": "R",
   "language": "R",
   "name": "ir"
  },
  "language_info": {
   "codemirror_mode": "r",
   "file_extension": ".r",
   "mimetype": "text/x-r-source",
   "name": "R",
   "pygments_lexer": "r",
   "version": "4.1.2"
  }
 },
 "nbformat": 4,
 "nbformat_minor": 4
}
